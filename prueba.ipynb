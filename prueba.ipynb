{
 "cells": [
  {
   "cell_type": "code",
   "id": "initial_id",
   "metadata": {
    "collapsed": true,
    "ExecuteTime": {
     "end_time": "2024-08-18T20:46:03.588215Z",
     "start_time": "2024-08-18T20:46:02.352091Z"
    }
   },
   "source": [
    "from IPython.display import display\n",
    "import ipywidgets as widgets\n",
    "import time\n",
    "import numpy as np\n",
    "import matplotlib.pyplot as plt\n",
    "plt.style.use('ggplot')"
   ],
   "outputs": [],
   "execution_count": 1
  },
  {
   "metadata": {
    "ExecuteTime": {
     "end_time": "2024-08-18T20:46:03.604533Z",
     "start_time": "2024-08-18T20:46:03.597238Z"
    }
   },
   "cell_type": "code",
   "source": [
    "class Tablero:\n",
    "    def __init__(self, tamano_celda=(50, 50), n_celdas=(5,5)):\n",
    "        self.out = widgets.HTML()\n",
    "        display(self.out)\n",
    "        self.tamano_celda = tamano_celda\n",
    "        self.n_celdas = n_celdas\n",
    "        self.casillas = []\n",
    "\n",
    "    def get_nceldas(self):\n",
    "        return self.n_celdas\n",
    "\n",
    "    def get_casillas(self):\n",
    "        return self.casillas\n",
    "\n",
    "    def dibujar(self, objetos):\n",
    "        tablero = \"<table border='1' >{}</table>\"\n",
    "        filas = \"\"\n",
    "        for i in range(self.n_celdas[0]):\n",
    "            s = \"\"\n",
    "            for j in range(self.n_celdas[1]):\n",
    "                contenido =\"\"\n",
    "                self.casillas.append([i, j])\n",
    "                for o in objetos:\n",
    "                    if o.x == j and o.y == i:\n",
    "                        contenido = \\\n",
    "                            \"<div style='transform: rotate({angulo}deg);font-size:{tamano_emoticon}px;'>{emoticon}</div>\". \\\n",
    "                                format(angulo = o.angulo, tamano_emoticon = o.tamano_emoticon, emoticon = o.emoticon)\n",
    "                s += \"<td style='height:{alto}px;width:{ancho}px'>{contenido}</td>\". \\\n",
    "                    format(alto = self.tamano_celda[0], ancho = self.tamano_celda[1],\n",
    "                           contenido = contenido)\n",
    "            filas += \"<tr>{}</tr>\".format(s)\n",
    "        tablero = tablero.format(filas)\n",
    "        self.out.value = tablero"
   ],
   "id": "20db605ccd008db4",
   "outputs": [],
   "execution_count": 2
  },
  {
   "metadata": {
    "ExecuteTime": {
     "end_time": "2024-08-18T20:46:03.611435Z",
     "start_time": "2024-08-18T20:46:03.609005Z"
    }
   },
   "cell_type": "code",
   "source": [
    "class Agente():\n",
    "    def __init__(self, x=0, y=0, angulo=0, emoticon=\"🤖\", tamano_emoticon=30):\n",
    "        self.x = x\n",
    "        self.y = y\n",
    "        self.angulo = angulo\n",
    "        self.emoticon = emoticon\n",
    "        self.tamano_emoticon = tamano_emoticon\n",
    "        "
   ],
   "id": "a41506b053e18902",
   "outputs": [],
   "execution_count": 3
  },
  {
   "metadata": {
    "ExecuteTime": {
     "end_time": "2024-08-18T20:46:03.619247Z",
     "start_time": "2024-08-18T20:46:03.616544Z"
    }
   },
   "cell_type": "code",
   "source": [
    "class AgenteBasura(Agente):\n",
    "    def __init__(self, x=0, y=0, angulo=0, emoticon=\"🍂\", tamano_emoticon=30 ):\n",
    "        super().__init__(x, y, angulo, emoticon, tamano_emoticon)"
   ],
   "id": "f814f13edbd4119a",
   "outputs": [],
   "execution_count": 4
  },
  {
   "metadata": {
    "ExecuteTime": {
     "end_time": "2024-08-18T20:46:03.985047Z",
     "start_time": "2024-08-18T20:46:03.977891Z"
    }
   },
   "cell_type": "code",
   "source": [
    "def GenerarBasura(cantidad, tablero=Tablero()):\n",
    "    basuras = []\n",
    "    while len(basuras)<cantidad:\n",
    "        x = np.random.randint(tablero.get_nceldas()[0])\n",
    "        y = np.random.randint(tablero.get_nceldas()[0])\n",
    "        if not any(basura.x == x and basura.y == y for basura in basuras):\n",
    "            basuras.append(AgenteBasura(x, y))\n",
    "    return basuras"
   ],
   "id": "fbc858f1de5445bd",
   "outputs": [
    {
     "data": {
      "text/plain": [
       "HTML(value='')"
      ],
      "application/vnd.jupyter.widget-view+json": {
       "version_major": 2,
       "version_minor": 0,
       "model_id": "eab5878a110e4ce5b457509358be98a4"
      }
     },
     "metadata": {},
     "output_type": "display_data"
    }
   ],
   "execution_count": 5
  },
  {
   "metadata": {
    "ExecuteTime": {
     "end_time": "2024-08-18T20:46:04.016253Z",
     "start_time": "2024-08-18T20:46:04.007028Z"
    }
   },
   "cell_type": "code",
   "source": [
    "class AgenteAspiradoraReflejo(Agente):\n",
    "    def __init__(self, x=0, y=0, angulo=0, emoticon=\"🤖\", tamano_emoticon=30, tablero = Tablero(),puntos=0):\n",
    "        super().__init__(x, y, angulo, emoticon, tamano_emoticon)\n",
    "        self.tablero = tablero\n",
    "        self.energia = 100\n",
    "        self.puntos = puntos\n",
    "    \n",
    "    def set_puntos(self, puntos):\n",
    "        self.puntos = puntos\n",
    "        \n",
    "    def get_puntos(self):\n",
    "        return self.puntos\n",
    "    \n",
    "    def dec_energy(self):\n",
    "        self.energia = self.energia - 1\n",
    "\n",
    "    def abajo(self):\n",
    "        if self.y < self.tablero.get_nceldas()[1]-1 :\n",
    "            self.y += 1\n",
    "            self.dec_energy()\n",
    "    \n",
    "    def derecha(self):\n",
    "        if self.x < self.tablero.get_nceldas()[0]-1:\n",
    "            self.x += 1\n",
    "            self.dec_energy()\n",
    "    \n",
    "    def arriba(self):\n",
    "        if self.y > 0 :\n",
    "            self.y -= 1\n",
    "            self.dec_energy()\n",
    "    \n",
    "    def izquierda(self):\n",
    "        if self.x > 0 :\n",
    "            self.x -= 1\n",
    "            self.dec_energy()\n",
    "\n",
    "    def detectar_basura(self, basuras):\n",
    "        basura_arriba = any(basura.x == self.x and basura.y == self.y - 1 for basura in basuras)\n",
    "        basura_abajo = any(basura.x == self.x and basura.y == self.y + 1 for basura in basuras)\n",
    "        basura_izquierda = any(basura.x == self.x - 1 and basura.y == self.y for basura in basuras)\n",
    "        basura_derecha = any(basura.x == self.x + 1 and basura.y == self.y for basura in basuras)\n",
    "    \n",
    "        if basura_derecha:\n",
    "            self.derecha()\n",
    "            return True\n",
    "        elif basura_izquierda:\n",
    "            self.izquierda()\n",
    "            return True\n",
    "        elif basura_arriba:\n",
    "            self.arriba()\n",
    "            return True\n",
    "        elif basura_abajo:\n",
    "            self.abajo()\n",
    "            return True\n",
    "        return False\n",
    "\n",
    "    def limpiar(self, basuras):\n",
    "        founded_basura = filter(lambda basura: (basura.x == self.x and basura.y == self.y ), basuras)\n",
    "        basura = list(founded_basura)\n",
    "        if basura:\n",
    "            basuras.remove(basura[0])\n",
    "            self.set_puntos(self.get_puntos()+1)\n",
    "            return True\n",
    "        return False"
   ],
   "id": "e266b4ada7549eb2",
   "outputs": [
    {
     "data": {
      "text/plain": [
       "HTML(value='')"
      ],
      "application/vnd.jupyter.widget-view+json": {
       "version_major": 2,
       "version_minor": 0,
       "model_id": "14018e3627eb4d4780b6a74926b0f1d9"
      }
     },
     "metadata": {},
     "output_type": "display_data"
    }
   ],
   "execution_count": 6
  },
  {
   "metadata": {
    "ExecuteTime": {
     "end_time": "2024-08-18T20:46:04.108761Z",
     "start_time": "2024-08-18T20:46:04.103681Z"
    }
   },
   "cell_type": "code",
   "source": [
    "def simulacionReflejo(sleep_time=0.5):\n",
    "    basuras = GenerarBasura(cantidad=10)\n",
    "    aspiradora = AgenteAspiradoraReflejo()\n",
    "    movimientos = [aspiradora.derecha, aspiradora.izquierda, aspiradora.arriba, aspiradora.abajo]\n",
    "    while aspiradora.energia > 0 and len(basuras) != 0:\n",
    "        aspiradora.limpiar(basuras)\n",
    "        objetos = basuras + [aspiradora]\n",
    "        escenario.dibujar(objetos)\n",
    "        time.sleep(sleep_time)\n",
    "        if aspiradora.energia > 0:\n",
    "            if not aspiradora.detectar_basura(basuras):\n",
    "                np.random.choice(movimientos)()\n",
    "        else:\n",
    "            break\n",
    "        escenario.dibujar(objetos)\n",
    "        time.sleep(sleep_time)\n",
    "    return 100-aspiradora.energia,aspiradora.puntos"
   ],
   "id": "4551731cff3ff755",
   "outputs": [],
   "execution_count": 7
  },
  {
   "metadata": {
    "ExecuteTime": {
     "end_time": "2024-08-18T20:48:09.519618Z",
     "start_time": "2024-08-18T20:47:21.087276Z"
    }
   },
   "cell_type": "code",
   "source": [
    "Energia_Consumida =[]\n",
    "Puntos_Obtenidos=[]\n",
    "escenario=Tablero()\n",
    "for _ in range(50):\n",
    "    energia,puntos=simulacionReflejo(0.01)\n",
    "    Energia_Consumida.append(energia)\n",
    "    Puntos_Obtenidos.append(puntos)"
   ],
   "id": "553905fb80771830",
   "outputs": [
    {
     "data": {
      "text/plain": [
       "HTML(value='')"
      ],
      "application/vnd.jupyter.widget-view+json": {
       "version_major": 2,
       "version_minor": 0,
       "model_id": "9e80037dd1cc40a988afefa806204d25"
      }
     },
     "metadata": {},
     "output_type": "display_data"
    },
    {
     "ename": "KeyboardInterrupt",
     "evalue": "",
     "output_type": "error",
     "traceback": [
      "\u001B[1;31m---------------------------------------------------------------------------\u001B[0m",
      "\u001B[1;31mKeyboardInterrupt\u001B[0m                         Traceback (most recent call last)",
      "Cell \u001B[1;32mIn[10], line 5\u001B[0m\n\u001B[0;32m      3\u001B[0m escenario\u001B[38;5;241m=\u001B[39mTablero()\n\u001B[0;32m      4\u001B[0m \u001B[38;5;28;01mfor\u001B[39;00m _ \u001B[38;5;129;01min\u001B[39;00m \u001B[38;5;28mrange\u001B[39m(\u001B[38;5;241m50\u001B[39m):\n\u001B[1;32m----> 5\u001B[0m     energia,puntos\u001B[38;5;241m=\u001B[39m\u001B[43msimulacionReflejo\u001B[49m\u001B[43m(\u001B[49m\u001B[38;5;241;43m0.01\u001B[39;49m\u001B[43m)\u001B[49m\n\u001B[0;32m      6\u001B[0m     Energia_Consumida\u001B[38;5;241m.\u001B[39mappend(energia)\n\u001B[0;32m      7\u001B[0m     Puntos_Obtenidos\u001B[38;5;241m.\u001B[39mappend(puntos)\n",
      "Cell \u001B[1;32mIn[7], line 9\u001B[0m, in \u001B[0;36msimulacionReflejo\u001B[1;34m(sleep_time)\u001B[0m\n\u001B[0;32m      7\u001B[0m objetos \u001B[38;5;241m=\u001B[39m basuras \u001B[38;5;241m+\u001B[39m [aspiradora]\n\u001B[0;32m      8\u001B[0m escenario\u001B[38;5;241m.\u001B[39mdibujar(objetos)\n\u001B[1;32m----> 9\u001B[0m \u001B[43mtime\u001B[49m\u001B[38;5;241;43m.\u001B[39;49m\u001B[43msleep\u001B[49m\u001B[43m(\u001B[49m\u001B[43msleep_time\u001B[49m\u001B[43m)\u001B[49m\n\u001B[0;32m     10\u001B[0m \u001B[38;5;28;01mif\u001B[39;00m aspiradora\u001B[38;5;241m.\u001B[39menergia \u001B[38;5;241m>\u001B[39m \u001B[38;5;241m0\u001B[39m:\n\u001B[0;32m     11\u001B[0m     \u001B[38;5;28;01mif\u001B[39;00m \u001B[38;5;129;01mnot\u001B[39;00m aspiradora\u001B[38;5;241m.\u001B[39mdetectar_basura(basuras):\n",
      "\u001B[1;31mKeyboardInterrupt\u001B[0m: "
     ]
    }
   ],
   "execution_count": 10
  },
  {
   "metadata": {
    "ExecuteTime": {
     "end_time": "2024-08-18T20:47:00.808896400Z",
     "start_time": "2024-08-18T14:50:56.722297Z"
    }
   },
   "cell_type": "code",
   "source": [
    "plt.hist(Puntos_Obtenidos)\n",
    "plt.title(\"Puntos Obtenidos por ejecución\")\n",
    "plt.xlabel(\"Puntos Obtenidos\")\n",
    "plt.ylabel(\"Frecuencia\")\n",
    "plt.show()"
   ],
   "id": "b9a6bb0581e2abca",
   "outputs": [
    {
     "data": {
      "text/plain": [
       "<Figure size 640x480 with 1 Axes>"
      ],
      "image/png": "[encoded data removed]"
     },
     "metadata": {},
     "output_type": "display_data"
    }
   ],
   "execution_count": 54
  },
  {
   "metadata": {
    "ExecuteTime": {
     "end_time": "2024-08-18T20:47:00.809897300Z",
     "start_time": "2024-08-18T14:51:02.559928Z"
    }
   },
   "cell_type": "code",
   "source": [
    "plt.hist(Energia_Consumida)\n",
    "plt.title(\"Energía consumida por ejecución\")\n",
    "plt.xlabel(\"Energía consumida\")\n",
    "plt.ylabel(\"Frecuencia\")\n",
    "plt.show()"
   ],
   "id": "4e6b13853d2a89b0",
   "outputs": [
    {
     "data": {
      "text/plain": [
       "<Figure size 640x480 with 1 Axes>"
      ],
      "image/png": "[encoded data removed]"
     },
     "metadata": {},
     "output_type": "display_data"
    }
   ],
   "execution_count": 55
  },
  {
   "metadata": {
    "ExecuteTime": {
     "end_time": "2024-08-18T20:47:00.811290400Z",
     "start_time": "2024-08-18T18:28:38.040755Z"
    }
   },
   "cell_type": "code",
   "source": [
    "class AgenteAspiradoraReflejoMemoria(Agente):\n",
    "    def __init__(self, x=0, y=0, angulo=0, emoticon=\"🤖\", tamano_emoticon=30, tablero = Tablero(n_celdas=(10,10)), celdas_visitadas=None,puntos=0):\n",
    "        super().__init__(x, y, angulo, emoticon, tamano_emoticon)\n",
    "        if celdas_visitadas is None:\n",
    "            celdas_visitadas = []\n",
    "        self.tablero = tablero\n",
    "        self.energia = 200\n",
    "        self.celdas_visitadas = celdas_visitadas\n",
    "        self.puntos = puntos\n",
    "\n",
    "    def set_puntos(self, puntos):\n",
    "        self.puntos = puntos\n",
    "\n",
    "    def get_puntos(self):\n",
    "        return self.puntos\n",
    "\n",
    "    def dec_energy(self):\n",
    "        self.energia = self.energia - 1\n",
    "        \n",
    "    def IsVisited(self,celda):\n",
    "        if celda in self.celdas_visitadas:\n",
    "            return True\n",
    "        else: return False\n",
    "    def IdentificarBorde(self):\n",
    "        if self.x==0: \n",
    "            return 1\n",
    "        elif self.x == self.tablero.get_nceldas()[0]-1:\n",
    "            return 2\n",
    "        elif self.y == self.tablero.get_nceldas()[1]-1:\n",
    "            return 3\n",
    "        elif self.y == 0:\n",
    "            return 4\n",
    "        else: return 0\n",
    "    def Encerrado(self):\n",
    "        derecha=(self.x+1,self.y) in self.celdas_visitadas\n",
    "        izquierda=(self.x-1,self.y) in self.celdas_visitadas\n",
    "        arriba=(self.x,self.y-1) in self.celdas_visitadas\n",
    "        abajo=(self.x,self.y+1) in self.celdas_visitadas\n",
    "        arriba_izquierda=(self.x-1,self.y-1) in self.celdas_visitadas\n",
    "        arriba_derecha=(self.x+1,self.y-1) in self.celdas_visitadas\n",
    "        abajo_derecha=(self.x+1,self.y+1) in self.celdas_visitadas\n",
    "        abajo_izquierda=(self.x-1,self.y+1) in self.celdas_visitadas\n",
    "        if (self.x,self.y)==(0,0):\n",
    "            return abajo and derecha and abajo_derecha\n",
    "        elif (self.x,self.y)==(self.tablero.get_nceldas()[0]-1,0):\n",
    "            return abajo and izquierda and abajo_izquierda\n",
    "        elif (self.x,self.y)==(self.tablero.get_nceldas()[0]-1,self.tablero.get_nceldas()[1]-1):\n",
    "            return arriba and izquierda and arriba_izquierda\n",
    "        elif (self.x,self.y)==(0,self.tablero.get_nceldas()[1]-1):\n",
    "            return arriba and derecha and arriba_derecha\n",
    "        else:\n",
    "            match self.IdentificarBorde():\n",
    "                case 0:\n",
    "                    return derecha and izquierda and arriba and abajo and arriba_izquierda and abajo_derecha and arriba_derecha and abajo_izquierda\n",
    "                case 1:\n",
    "                    return derecha and arriba and abajo_derecha and arriba and abajo \n",
    "                case 2:\n",
    "                    return izquierda and arriba and abajo and arriba_izquierda and abajo_izquierda\n",
    "                case 3: \n",
    "                    return izquierda and arriba and derecha and arriba_izquierda and arriba_derecha\n",
    "                case 4:\n",
    "                    return izquierda and abajo and derecha and abajo_derecha and abajo_izquierda\n",
    "                    \n",
    "    def abajo(self):\n",
    "        if self.y < self.tablero.get_nceldas()[1]-1:\n",
    "            if not self.IsVisited((self.x,self.y+1)) or self.Encerrado():\n",
    "                self.y += 1\n",
    "                self.dec_energy()\n",
    "\n",
    "    def derecha(self):\n",
    "        if self.x < self.tablero.get_nceldas()[0]-1:\n",
    "            if not self.IsVisited((self.x+1,self.y)) or self.Encerrado():\n",
    "                self.x += 1\n",
    "                self.dec_energy()\n",
    "\n",
    "    def arriba(self):\n",
    "        if self.y > 0 :\n",
    "            if not self.IsVisited((self.x,self.y-1)) or self.Encerrado():\n",
    "                self.y -= 1\n",
    "                self.dec_energy()\n",
    "\n",
    "    def izquierda(self):\n",
    "        if self.x > 0 :\n",
    "            if not self.IsVisited((self.x-1,self.y)) or self.Encerrado():\n",
    "                self.x -= 1\n",
    "                self.dec_energy()\n",
    "                \n",
    "    def abajo_der(self):\n",
    "        if self.y < self.tablero.get_nceldas()[1]-1 and self.x < self.tablero.get_nceldas()[0]-1:\n",
    "            if not self.IsVisited((self.x+1,self.y+1)) or self.Encerrado():\n",
    "                self.y += 1\n",
    "                self.x += 1\n",
    "                self.dec_energy()\n",
    "\n",
    "    def arriba_der(self):\n",
    "        if self.x < self.tablero.get_nceldas()[0]-1 and self.y > 0:\n",
    "            if not self.IsVisited((self.x+1,self.y-1)) or self.Encerrado():\n",
    "                self.x += 1\n",
    "                self.y -= 1\n",
    "                self.dec_energy()\n",
    "\n",
    "    def arriba_izq(self):\n",
    "        if self.y > 0 and self.x > 0 :\n",
    "            if not self.IsVisited((self.x-1,self.y-1)) or self.Encerrado():\n",
    "                self.x -= 1\n",
    "                self.y -= 1\n",
    "                self.dec_energy()\n",
    "                \n",
    "\n",
    "    def abajo_izq(self):\n",
    "        if self.x > 0 and self.y < self.tablero.get_nceldas()[1]-1 :\n",
    "            if not self.IsVisited((self.x-1,self.y+1)) or self.Encerrado():\n",
    "                self.x -= 1\n",
    "                self.y += 1\n",
    "                self.dec_energy()\n",
    "    \n",
    "\n",
    "    def detectar_basura(self, basuras):\n",
    "        basura_arriba = any(basura.x == self.x and basura.y == self.y - 1 for basura in basuras)\n",
    "        basura_abajo = any(basura.x == self.x and basura.y == self.y + 1 for basura in basuras)\n",
    "        basura_izquierda = any(basura.x == self.x - 1 and basura.y == self.y for basura in basuras)\n",
    "        basura_derecha = any(basura.x == self.x + 1 and basura.y == self.y for basura in basuras)\n",
    "        basura_arriba_der = any(basura.x == self.x + 1 and basura.y == self.y - 1 for basura in basuras)\n",
    "        basura_abajo_der = any(basura.x == self.x + 1 and basura.y == self.y + 1 for basura in basuras)\n",
    "        basura_arriba_izq = any(basura.x == self.x - 1 and basura.y == self.y - 1 for basura in basuras)\n",
    "        basura_abajo_izq = any(basura.x == self.x - 1 and basura.y == self.y + 1 for basura in basuras)\n",
    "        \n",
    "        if basura_derecha:\n",
    "            self.derecha()\n",
    "            return True\n",
    "        elif basura_izquierda:\n",
    "            self.izquierda()\n",
    "            return True\n",
    "        elif basura_arriba:\n",
    "            self.arriba()\n",
    "            return True\n",
    "        elif basura_abajo:\n",
    "            self.abajo()\n",
    "            return True\n",
    "        if basura_arriba_der:\n",
    "            self.arriba_der()\n",
    "            return True\n",
    "        elif basura_abajo_der:\n",
    "            self.abajo_der()\n",
    "            return True\n",
    "        elif basura_arriba_izq:\n",
    "            self.arriba_izq()\n",
    "            return True\n",
    "        elif basura_abajo_izq:\n",
    "            self.abajo_izq()\n",
    "            return True\n",
    "        return False\n",
    "\n",
    "    def limpiar(self, basuras):\n",
    "        founded_basura = filter(lambda basura: (basura.x == self.x and basura.y == self.y ), basuras)\n",
    "        basura = list(founded_basura)\n",
    "        if basura:\n",
    "            basuras.remove(basura[0])\n",
    "            self.set_puntos(self.get_puntos()+1)\n",
    "            self.celdas_visitadas.append((self.x,self.y))\n",
    "            return True\n",
    "        return False"
   ],
   "id": "b7762d5cd1cf1e62",
   "outputs": [
    {
     "data": {
      "text/plain": [
       "HTML(value='')"
      ],
      "application/vnd.jupyter.widget-view+json": {
       "version_major": 2,
       "version_minor": 0,
       "model_id": "7be656902140490fb9eb98bf51e5324c"
      }
     },
     "metadata": {},
     "output_type": "display_data"
    }
   ],
   "execution_count": 191
  },
  {
   "metadata": {
    "ExecuteTime": {
     "end_time": "2024-08-18T20:47:00.811290400Z",
     "start_time": "2024-08-18T18:27:02.868817Z"
    }
   },
   "cell_type": "code",
   "source": [
    "def simulacionReflejoMemoria(sleep_time=0.01):\n",
    "    basuras = GenerarBasura(cantidad=50,tablero=Tablero(n_celdas=(10,10)))\n",
    "    aspiradora = AgenteAspiradoraReflejoMemoria()\n",
    "    movimientos = [aspiradora.derecha, aspiradora.izquierda, aspiradora.arriba, \n",
    "                   aspiradora.abajo,aspiradora.arriba_der,aspiradora.arriba_izq,\n",
    "                   aspiradora.abajo_der,aspiradora.abajo_izq]\n",
    "    while aspiradora.energia > 0 and len(basuras) != 0:\n",
    "        objetos = basuras + [aspiradora]\n",
    "        escenario.dibujar(objetos)\n",
    "        time.sleep(sleep_time)\n",
    "        if aspiradora.energia > 0:\n",
    "            if not aspiradora.detectar_basura(basuras):\n",
    "                np.random.choice(movimientos)()\n",
    "            else:\n",
    "                aspiradora.limpiar(basuras)\n",
    "        else:\n",
    "            break\n",
    "        escenario.dibujar(objetos)\n",
    "        time.sleep(sleep_time)\n",
    "    return 200-aspiradora.energia,aspiradora.puntos"
   ],
   "id": "b219cf28efdc26e7",
   "outputs": [],
   "execution_count": 189
  },
  {
   "metadata": {
    "ExecuteTime": {
     "end_time": "2024-08-18T20:47:00.811290400Z",
     "start_time": "2024-08-18T18:28:42.343612Z"
    }
   },
   "cell_type": "code",
   "source": [
    "Energia_Consumida =[]\n",
    "Puntos_Obtenidos=[]\n",
    "escenario=Tablero(n_celdas=(10,10))\n",
    "for _ in range(50):\n",
    "    energia,puntos=simulacionReflejoMemoria(sleep_time=0.001)\n",
    "    Energia_Consumida.append(energia)\n",
    "    Puntos_Obtenidos.append(puntos)"
   ],
   "id": "ffc17ef4c311be79",
   "outputs": [
    {
     "data": {
      "text/plain": [
       "HTML(value='')"
      ],
      "application/vnd.jupyter.widget-view+json": {
       "version_major": 2,
       "version_minor": 0,
       "model_id": "62f0e56cdedf4850866978ce46bd29e8"
      }
     },
     "metadata": {},
     "output_type": "display_data"
    },
    {
     "data": {
      "text/plain": [
       "HTML(value='')"
      ],
      "application/vnd.jupyter.widget-view+json": {
       "version_major": 2,
       "version_minor": 0,
       "model_id": "5be6e126102f4e2fb3ae5e771983985f"
      }
     },
     "metadata": {},
     "output_type": "display_data"
    },
    {
     "data": {
      "text/plain": [
       "HTML(value='')"
      ],
      "application/vnd.jupyter.widget-view+json": {
       "version_major": 2,
       "version_minor": 0,
       "model_id": "73f0802b53da4170840bc95ca6ca56e4"
      }
     },
     "metadata": {},
     "output_type": "display_data"
    },
    {
     "data": {
      "text/plain": [
       "HTML(value='')"
      ],
      "application/vnd.jupyter.widget-view+json": {
       "version_major": 2,
       "version_minor": 0,
       "model_id": "34e4491726804688aaf597fe28bb6301"
      }
     },
     "metadata": {},
     "output_type": "display_data"
    },
    {
     "data": {
      "text/plain": [
       "HTML(value='')"
      ],
      "application/vnd.jupyter.widget-view+json": {
       "version_major": 2,
       "version_minor": 0,
       "model_id": "c6a4e2f39be14c17bfe2db3d190e37d6"
      }
     },
     "metadata": {},
     "output_type": "display_data"
    },
    {
     "data": {
      "text/plain": [
       "HTML(value='')"
      ],
      "application/vnd.jupyter.widget-view+json": {
       "version_major": 2,
       "version_minor": 0,
       "model_id": "dbd6fef9553c472caf86adb87b7626df"
      }
     },
     "metadata": {},
     "output_type": "display_data"
    },
    {
     "data": {
      "text/plain": [
       "HTML(value='')"
      ],
      "application/vnd.jupyter.widget-view+json": {
       "version_major": 2,
       "version_minor": 0,
       "model_id": "cb7dbf809ea24a0da6e7a55b527e1c1f"
      }
     },
     "metadata": {},
     "output_type": "display_data"
    },
    {
     "data": {
      "text/plain": [
       "HTML(value='')"
      ],
      "application/vnd.jupyter.widget-view+json": {
       "version_major": 2,
       "version_minor": 0,
       "model_id": "942fd50692a14d0fa3e96f01b071fdea"
      }
     },
     "metadata": {},
     "output_type": "display_data"
    },
    {
     "data": {
      "text/plain": [
       "HTML(value='')"
      ],
      "application/vnd.jupyter.widget-view+json": {
       "version_major": 2,
       "version_minor": 0,
       "model_id": "80f9734fd42e4a76af3f4a20c74d4805"
      }
     },
     "metadata": {},
     "output_type": "display_data"
    },
    {
     "data": {
      "text/plain": [
       "HTML(value='')"
      ],
      "application/vnd.jupyter.widget-view+json": {
       "version_major": 2,
       "version_minor": 0,
       "model_id": "e3fba408a2dc44f5be4b95832571b8f0"
      }
     },
     "metadata": {},
     "output_type": "display_data"
    },
    {
     "data": {
      "text/plain": [
       "HTML(value='')"
      ],
      "application/vnd.jupyter.widget-view+json": {
       "version_major": 2,
       "version_minor": 0,
       "model_id": "5af9340485d14050bb3ac9ef424746ef"
      }
     },
     "metadata": {},
     "output_type": "display_data"
    },
    {
     "data": {
      "text/plain": [
       "HTML(value='')"
      ],
      "application/vnd.jupyter.widget-view+json": {
       "version_major": 2,
       "version_minor": 0,
       "model_id": "f538e8af1ce34ff5b46121ebaf4d2298"
      }
     },
     "metadata": {},
     "output_type": "display_data"
    },
    {
     "data": {
      "text/plain": [
       "HTML(value='')"
      ],
      "application/vnd.jupyter.widget-view+json": {
       "version_major": 2,
       "version_minor": 0,
       "model_id": "a0a2f0f82ae244c0af09926f9e6b5e77"
      }
     },
     "metadata": {},
     "output_type": "display_data"
    },
    {
     "data": {
      "text/plain": [
       "HTML(value='')"
      ],
      "application/vnd.jupyter.widget-view+json": {
       "version_major": 2,
       "version_minor": 0,
       "model_id": "fc5c2000f8b347e5a494c5157a6efc4f"
      }
     },
     "metadata": {},
     "output_type": "display_data"
    },
    {
     "data": {
      "text/plain": [
       "HTML(value='')"
      ],
      "application/vnd.jupyter.widget-view+json": {
       "version_major": 2,
       "version_minor": 0,
       "model_id": "eabae351573a4de5abe8ec28643f6235"
      }
     },
     "metadata": {},
     "output_type": "display_data"
    },
    {
     "data": {
      "text/plain": [
       "HTML(value='')"
      ],
      "application/vnd.jupyter.widget-view+json": {
       "version_major": 2,
       "version_minor": 0,
       "model_id": "520a6d66eb4c41128682b8191d92fcbd"
      }
     },
     "metadata": {},
     "output_type": "display_data"
    },
    {
     "data": {
      "text/plain": [
       "HTML(value='')"
      ],
      "application/vnd.jupyter.widget-view+json": {
       "version_major": 2,
       "version_minor": 0,
       "model_id": "cad13c21c77943909cb7563c51fca488"
      }
     },
     "metadata": {},
     "output_type": "display_data"
    },
    {
     "data": {
      "text/plain": [
       "HTML(value='')"
      ],
      "application/vnd.jupyter.widget-view+json": {
       "version_major": 2,
       "version_minor": 0,
       "model_id": "273a7f226a5d43568ae8d7ac8921a05b"
      }
     },
     "metadata": {},
     "output_type": "display_data"
    },
    {
     "data": {
      "text/plain": [
       "HTML(value='')"
      ],
      "application/vnd.jupyter.widget-view+json": {
       "version_major": 2,
       "version_minor": 0,
       "model_id": "1854377c127f40ceac25362373a2a431"
      }
     },
     "metadata": {},
     "output_type": "display_data"
    },
    {
     "data": {
      "text/plain": [
       "HTML(value='')"
      ],
      "application/vnd.jupyter.widget-view+json": {
       "version_major": 2,
       "version_minor": 0,
       "model_id": "76685a33e7654186948cdc5d64032235"
      }
     },
     "metadata": {},
     "output_type": "display_data"
    },
    {
     "data": {
      "text/plain": [
       "HTML(value='')"
      ],
      "application/vnd.jupyter.widget-view+json": {
       "version_major": 2,
       "version_minor": 0,
       "model_id": "2b75ca720de74b45a25720723493cc3e"
      }
     },
     "metadata": {},
     "output_type": "display_data"
    },
    {
     "data": {
      "text/plain": [
       "HTML(value='')"
      ],
      "application/vnd.jupyter.widget-view+json": {
       "version_major": 2,
       "version_minor": 0,
       "model_id": "a71eb74ca7d94330995e05ebc1a0243f"
      }
     },
     "metadata": {},
     "output_type": "display_data"
    },
    {
     "data": {
      "text/plain": [
       "HTML(value='')"
      ],
      "application/vnd.jupyter.widget-view+json": {
       "version_major": 2,
       "version_minor": 0,
       "model_id": "02ef30dee3f84f9080c7e642de324d42"
      }
     },
     "metadata": {},
     "output_type": "display_data"
    },
    {
     "data": {
      "text/plain": [
       "HTML(value='')"
      ],
      "application/vnd.jupyter.widget-view+json": {
       "version_major": 2,
       "version_minor": 0,
       "model_id": "32343594d3a04b82a60cc6cfb1ce2aea"
      }
     },
     "metadata": {},
     "output_type": "display_data"
    },
    {
     "data": {
      "text/plain": [
       "HTML(value='')"
      ],
      "application/vnd.jupyter.widget-view+json": {
       "version_major": 2,
       "version_minor": 0,
       "model_id": "2ef92f4a5c2049549c68ae2f2a4e67ad"
      }
     },
     "metadata": {},
     "output_type": "display_data"
    },
    {
     "data": {
      "text/plain": [
       "HTML(value='')"
      ],
      "application/vnd.jupyter.widget-view+json": {
       "version_major": 2,
       "version_minor": 0,
       "model_id": "2f8d8486c3b94789befc0c8092bf2839"
      }
     },
     "metadata": {},
     "output_type": "display_data"
    },
    {
     "data": {
      "text/plain": [
       "HTML(value='')"
      ],
      "application/vnd.jupyter.widget-view+json": {
       "version_major": 2,
       "version_minor": 0,
       "model_id": "0a812e02bc304fc195ae6a17eb861777"
      }
     },
     "metadata": {},
     "output_type": "display_data"
    },
    {
     "data": {
      "text/plain": [
       "HTML(value='')"
      ],
      "application/vnd.jupyter.widget-view+json": {
       "version_major": 2,
       "version_minor": 0,
       "model_id": "b524d001c5924b38990b112b657dbc5a"
      }
     },
     "metadata": {},
     "output_type": "display_data"
    },
    {
     "data": {
      "text/plain": [
       "HTML(value='')"
      ],
      "application/vnd.jupyter.widget-view+json": {
       "version_major": 2,
       "version_minor": 0,
       "model_id": "bef471abeaf34b01a7886003329a69dc"
      }
     },
     "metadata": {},
     "output_type": "display_data"
    },
    {
     "data": {
      "text/plain": [
       "HTML(value='')"
      ],
      "application/vnd.jupyter.widget-view+json": {
       "version_major": 2,
       "version_minor": 0,
       "model_id": "9d9184cfb1e64afa940e6eae63192396"
      }
     },
     "metadata": {},
     "output_type": "display_data"
    },
    {
     "data": {
      "text/plain": [
       "HTML(value='')"
      ],
      "application/vnd.jupyter.widget-view+json": {
       "version_major": 2,
       "version_minor": 0,
       "model_id": "fd1c710aabd347319b6a921c01f06e4e"
      }
     },
     "metadata": {},
     "output_type": "display_data"
    },
    {
     "data": {
      "text/plain": [
       "HTML(value='')"
      ],
      "application/vnd.jupyter.widget-view+json": {
       "version_major": 2,
       "version_minor": 0,
       "model_id": "2e054bfcfb5744cdb09831fd8021db52"
      }
     },
     "metadata": {},
     "output_type": "display_data"
    },
    {
     "data": {
      "text/plain": [
       "HTML(value='')"
      ],
      "application/vnd.jupyter.widget-view+json": {
       "version_major": 2,
       "version_minor": 0,
       "model_id": "ffdad93fb80f4639bd2877d5c23b3e68"
      }
     },
     "metadata": {},
     "output_type": "display_data"
    },
    {
     "data": {
      "text/plain": [
       "HTML(value='')"
      ],
      "application/vnd.jupyter.widget-view+json": {
       "version_major": 2,
       "version_minor": 0,
       "model_id": "92e13dec512d4316ad93909bac0b2e78"
      }
     },
     "metadata": {},
     "output_type": "display_data"
    },
    {
     "data": {
      "text/plain": [
       "HTML(value='')"
      ],
      "application/vnd.jupyter.widget-view+json": {
       "version_major": 2,
       "version_minor": 0,
       "model_id": "ca05249a539a4ff59fb97d809104c00b"
      }
     },
     "metadata": {},
     "output_type": "display_data"
    },
    {
     "data": {
      "text/plain": [
       "HTML(value='')"
      ],
      "application/vnd.jupyter.widget-view+json": {
       "version_major": 2,
       "version_minor": 0,
       "model_id": "e847763c4fd34f379c7959f5efe04f8c"
      }
     },
     "metadata": {},
     "output_type": "display_data"
    },
    {
     "data": {
      "text/plain": [
       "HTML(value='')"
      ],
      "application/vnd.jupyter.widget-view+json": {
       "version_major": 2,
       "version_minor": 0,
       "model_id": "0659c8f8cc154952b11878d8c9b46249"
      }
     },
     "metadata": {},
     "output_type": "display_data"
    },
    {
     "data": {
      "text/plain": [
       "HTML(value='')"
      ],
      "application/vnd.jupyter.widget-view+json": {
       "version_major": 2,
       "version_minor": 0,
       "model_id": "0b910d30ab614a3ebebbe8a3f95ab6bb"
      }
     },
     "metadata": {},
     "output_type": "display_data"
    },
    {
     "data": {
      "text/plain": [
       "HTML(value='')"
      ],
      "application/vnd.jupyter.widget-view+json": {
       "version_major": 2,
       "version_minor": 0,
       "model_id": "70a295df62334e5ea5bb12f02240b603"
      }
     },
     "metadata": {},
     "output_type": "display_data"
    },
    {
     "data": {
      "text/plain": [
       "HTML(value='')"
      ],
      "application/vnd.jupyter.widget-view+json": {
       "version_major": 2,
       "version_minor": 0,
       "model_id": "0ccb48e7a30642e1aabcea540a63778e"
      }
     },
     "metadata": {},
     "output_type": "display_data"
    },
    {
     "data": {
      "text/plain": [
       "HTML(value='')"
      ],
      "application/vnd.jupyter.widget-view+json": {
       "version_major": 2,
       "version_minor": 0,
       "model_id": "5645ff5fb22147f898055b30d1f93155"
      }
     },
     "metadata": {},
     "output_type": "display_data"
    },
    {
     "data": {
      "text/plain": [
       "HTML(value='')"
      ],
      "application/vnd.jupyter.widget-view+json": {
       "version_major": 2,
       "version_minor": 0,
       "model_id": "8d3b9bc0a2354a4681c8ab823ad53137"
      }
     },
     "metadata": {},
     "output_type": "display_data"
    },
    {
     "data": {
      "text/plain": [
       "HTML(value='')"
      ],
      "application/vnd.jupyter.widget-view+json": {
       "version_major": 2,
       "version_minor": 0,
       "model_id": "5f1fb6b4b4d0464d8ed99793a0682ee0"
      }
     },
     "metadata": {},
     "output_type": "display_data"
    },
    {
     "data": {
      "text/plain": [
       "HTML(value='')"
      ],
      "application/vnd.jupyter.widget-view+json": {
       "version_major": 2,
       "version_minor": 0,
       "model_id": "da37b53574bd4ec6aa9e9f6d043abb48"
      }
     },
     "metadata": {},
     "output_type": "display_data"
    },
    {
     "data": {
      "text/plain": [
       "HTML(value='')"
      ],
      "application/vnd.jupyter.widget-view+json": {
       "version_major": 2,
       "version_minor": 0,
       "model_id": "837730f72b9d4aa49918295568be7fc2"
      }
     },
     "metadata": {},
     "output_type": "display_data"
    },
    {
     "data": {
      "text/plain": [
       "HTML(value='')"
      ],
      "application/vnd.jupyter.widget-view+json": {
       "version_major": 2,
       "version_minor": 0,
       "model_id": "3efb23537a73430184f513dfd94abefc"
      }
     },
     "metadata": {},
     "output_type": "display_data"
    },
    {
     "data": {
      "text/plain": [
       "HTML(value='')"
      ],
      "application/vnd.jupyter.widget-view+json": {
       "version_major": 2,
       "version_minor": 0,
       "model_id": "9ff4a61247f34753901a94415ab0ac39"
      }
     },
     "metadata": {},
     "output_type": "display_data"
    },
    {
     "data": {
      "text/plain": [
       "HTML(value='')"
      ],
      "application/vnd.jupyter.widget-view+json": {
       "version_major": 2,
       "version_minor": 0,
       "model_id": "c34ae216087d41ee82066ac1a4a5e671"
      }
     },
     "metadata": {},
     "output_type": "display_data"
    },
    {
     "data": {
      "text/plain": [
       "HTML(value='')"
      ],
      "application/vnd.jupyter.widget-view+json": {
       "version_major": 2,
       "version_minor": 0,
       "model_id": "b2609d4731de4beea0d6e40eb7a01988"
      }
     },
     "metadata": {},
     "output_type": "display_data"
    },
    {
     "data": {
      "text/plain": [
       "HTML(value='')"
      ],
      "application/vnd.jupyter.widget-view+json": {
       "version_major": 2,
       "version_minor": 0,
       "model_id": "b7540b9a62324931af87b52b8f025997"
      }
     },
     "metadata": {},
     "output_type": "display_data"
    },
    {
     "data": {
      "text/plain": [
       "HTML(value='')"
      ],
      "application/vnd.jupyter.widget-view+json": {
       "version_major": 2,
       "version_minor": 0,
       "model_id": "6434f0f605f14e87bd356c8d50052292"
      }
     },
     "metadata": {},
     "output_type": "display_data"
    }
   ],
   "execution_count": 192
  },
  {
   "metadata": {
    "ExecuteTime": {
     "end_time": "2024-08-18T20:47:00.811290400Z",
     "start_time": "2024-08-18T18:30:05.671019Z"
    }
   },
   "cell_type": "code",
   "source": [
    "plt.hist(Puntos_Obtenidos)\n",
    "plt.title(\"Puntos Obtenidos por ejecución\")\n",
    "plt.xlabel(\"Puntos Obtenidos\")\n",
    "plt.ylabel(\"Frecuencia\")\n",
    "plt.show()"
   ],
   "id": "7cbb7a42de8ce5a3",
   "outputs": [
    {
     "data": {
      "text/plain": [
       "<Figure size 640x480 with 1 Axes>"
      ],
      "image/png": "[encoded data removed]"
     },
     "metadata": {},
     "output_type": "display_data"
    }
   ],
   "execution_count": 193
  },
  {
   "metadata": {
    "ExecuteTime": {
     "end_time": "2024-08-18T20:47:00.812292700Z",
     "start_time": "2024-08-18T18:30:17.707121Z"
    }
   },
   "cell_type": "code",
   "source": [
    "plt.show()\n",
    "plt.hist(Energia_Consumida)\n",
    "plt.title(\"Energía consumida por ejecución\")\n",
    "plt.xlabel(\"Energía consumida\")\n",
    "plt.ylabel(\"Frecuencia\")\n",
    "plt.show()"
   ],
   "id": "1db2bc514a6ad56c",
   "outputs": [
    {
     "data": {
      "text/plain": [
       "<Figure size 640x480 with 1 Axes>"
      ],
      "image/png": "[encoded data removed]"
     },
     "metadata": {},
     "output_type": "display_data"
    }
   ],
   "execution_count": 194
  }
 ],
 "metadata": {
  "kernelspec": {
   "display_name": "Python 3",
   "language": "python",
   "name": "python3"
  },
  "language_info": {
   "codemirror_mode": {
    "name": "ipython",
    "version": 2
   },
   "file_extension": ".py",
   "mimetype": "text/x-python",
   "name": "python",
   "nbconvert_exporter": "python",
   "pygments_lexer": "ipython2",
   "version": "2.7.6"
  }
 },
 "nbformat": 4,
 "nbformat_minor": 5
}
