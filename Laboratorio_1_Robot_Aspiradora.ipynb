{
  "nbformat": 4,
  "nbformat_minor": 0,
  "metadata": {
    "colab": {
      "provenance": []
    },
    "kernelspec": {
      "name": "python3",
      "display_name": "Python 3"
    },
    "widgets": {
      "application/vnd.jupyter.widget-state+json": {
        "8a1b2fc19b804527b2e50945cadcf2a0": {
          "model_module": "@jupyter-widgets/controls",
          "model_name": "HTMLModel",
          "model_module_version": "1.5.0",
          "state": {
            "_dom_classes": [],
            "_model_module": "@jupyter-widgets/controls",
            "_model_module_version": "1.5.0",
            "_model_name": "HTMLModel",
            "_view_count": null,
            "_view_module": "@jupyter-widgets/controls",
            "_view_module_version": "1.5.0",
            "_view_name": "HTMLView",
            "description": "",
            "description_tooltip": null,
            "layout": "IPY_MODEL_7b5e65ebfe6b4ebc93c237966a6cb94d",
            "placeholder": "​",
            "style": "IPY_MODEL_772365a926f64c41b6606e523fba3bf1",
            "value": "<table border='1' ><tr><td style='height:50px;width:50px'></td><td style='height:50px;width:50px'></td><td style='height:50px;width:50px'></td><td style='height:50px;width:50px'></td><td style='height:50px;width:50px'></td></tr><tr><td style='height:50px;width:50px'></td><td style='height:50px;width:50px'></td><td style='height:50px;width:50px'></td><td style='height:50px;width:50px'></td><td style='height:50px;width:50px'></td></tr><tr><td style='height:50px;width:50px'></td><td style='height:50px;width:50px'></td><td style='height:50px;width:50px'><div style='transform: rotate(0deg);font-size:30px;'>🍂</div></td><td style='height:50px;width:50px'><div style='transform: rotate(0deg);font-size:30px;'>🍂</div></td><td style='height:50px;width:50px'></td></tr><tr><td style='height:50px;width:50px'></td><td style='height:50px;width:50px'></td><td style='height:50px;width:50px'></td><td style='height:50px;width:50px'><div style='transform: rotate(0deg);font-size:30px;'>🍂</div></td><td style='height:50px;width:50px'></td></tr><tr><td style='height:50px;width:50px'><div style='transform: rotate(0deg);font-size:30px;'>🤖</div></td><td style='height:50px;width:50px'></td><td style='height:50px;width:50px'></td><td style='height:50px;width:50px'></td><td style='height:50px;width:50px'></td></tr></table>"
          }
        },
        "7b5e65ebfe6b4ebc93c237966a6cb94d": {
          "model_module": "@jupyter-widgets/base",
          "model_name": "LayoutModel",
          "model_module_version": "1.2.0",
          "state": {
            "_model_module": "@jupyter-widgets/base",
            "_model_module_version": "1.2.0",
            "_model_name": "LayoutModel",
            "_view_count": null,
            "_view_module": "@jupyter-widgets/base",
            "_view_module_version": "1.2.0",
            "_view_name": "LayoutView",
            "align_content": null,
            "align_items": null,
            "align_self": null,
            "border": null,
            "bottom": null,
            "display": null,
            "flex": null,
            "flex_flow": null,
            "grid_area": null,
            "grid_auto_columns": null,
            "grid_auto_flow": null,
            "grid_auto_rows": null,
            "grid_column": null,
            "grid_gap": null,
            "grid_row": null,
            "grid_template_areas": null,
            "grid_template_columns": null,
            "grid_template_rows": null,
            "height": null,
            "justify_content": null,
            "justify_items": null,
            "left": null,
            "margin": null,
            "max_height": null,
            "max_width": null,
            "min_height": null,
            "min_width": null,
            "object_fit": null,
            "object_position": null,
            "order": null,
            "overflow": null,
            "overflow_x": null,
            "overflow_y": null,
            "padding": null,
            "right": null,
            "top": null,
            "visibility": null,
            "width": null
          }
        },
        "772365a926f64c41b6606e523fba3bf1": {
          "model_module": "@jupyter-widgets/controls",
          "model_name": "DescriptionStyleModel",
          "model_module_version": "1.5.0",
          "state": {
            "_model_module": "@jupyter-widgets/controls",
            "_model_module_version": "1.5.0",
            "_model_name": "DescriptionStyleModel",
            "_view_count": null,
            "_view_module": "@jupyter-widgets/base",
            "_view_module_version": "1.2.0",
            "_view_name": "StyleView",
            "description_width": ""
          }
        }
      }
    }
  },
  "cells": [
    {
      "cell_type": "markdown",
      "source": [
        "# __Laboratorio 1. Agentes Inteligentes__\n",
        "\n",
        "\n",
        "El siguiente laboratorio está relacionado con el proceso de solución de problemas en IA utilizando el concepto de agente. Para el desarrollo del laboratorio tenga en cuenta lo siguiente:\n",
        "\n",
        "* La actividad puede realizarse en grupos de máximo 3 personas\n",
        "* La solución del laboratorio debe enviarse en un notebook a través de Moodle. Se debe adjuntar el archivo. No se aceptan enlaces.\n",
        "* El uso del lenguaje matemático debe hacerse utilizando `LaTeX`\n",
        "* El objetivo del laboratorio es hacer énfasis en el proceso de modelamiento. Sea claro en sus respuestas\n",
        "* Si se detecta cualquier tipo de fraude, la calificación de 0.0.\n",
        "* El código implementado deben cumplir con las recomendaciones de código limpio especificadas en el [PEP8](https://pep8.org/), de lo contrario será penalizado\n",
        "_______________________________________\n"
      ],
      "metadata": {
        "id": "kjIo9np0WfJc"
      }
    },
    {
      "cell_type": "markdown",
      "source": [
        "\n",
        "\n",
        "####  __1. `(0.5 puntos)` Suponga que un agente selecciona su siguiente movimiento de manera aleatoria del conjunto de acciones posibles. Si todas las acciones tiene la misma probabilidad, ¿existe un problema en específico dónde el agente tenga un comportamiento racional? Justifique su respuesta.__"
      ],
      "metadata": {
        "id": "v363eRDYYoD-"
      }
    },
    {
      "cell_type": "code",
      "source": [
        "# Solución propuesta"
      ],
      "metadata": {
        "id": "fJMExmU4d-Ns"
      },
      "execution_count": 3,
      "outputs": []
    },
    {
      "cell_type": "markdown",
      "source": [
        "#### __2. `(0.5 puntos)` Suponga que el comportamiento de un agente es evaluado a través de una métrica de desempeño que solo considera las primeras 𝑇 unidades de tiempo e ignora todo lo demás después de eso. Muestre que la racionalidad del agente no depende únicamente del estado del ambiente, sino del tiempo disponible. Presente 2 ejemplos para esta situación.__"
      ],
      "metadata": {
        "id": "9gt0w_bJdkHd"
      }
    },
    {
      "cell_type": "code",
      "source": [
        "# Solución propuesta"
      ],
      "metadata": {
        "id": "3Ae3zS6CZHc_"
      },
      "execution_count": 4,
      "outputs": []
    },
    {
      "cell_type": "markdown",
      "source": [
        "#### __3. `(1.0 puntos)` Para cada uno de los siguientes problemas, especifique los elementos PEAS.  No olvide mencionar todas las propiedades del ambiente.__\n",
        "\n",
        "*\tJugar baloncesto\n",
        "*\tExplorar la superficie de la luna\n",
        "*\tComprar una obra de arte en una subasta\n",
        "*\tJugar poker\n",
        "*\tChatBot para una mesa de ayuda.\n",
        "* Jugar Ajedrez\n"
      ],
      "metadata": {
        "id": "HsYuezq3XX4I"
      }
    },
    {
      "cell_type": "code",
      "source": [
        "# Solución propuesta"
      ],
      "metadata": {
        "id": "7tgCVoI2pz3L"
      },
      "execution_count": 5,
      "outputs": []
    },
    {
      "cell_type": "markdown",
      "source": [
        "# __Robot Aspiradora__\n",
        "\n",
        "Los siguientes dos puntos utilizan el siguiente código como base.\n",
        "\n",
        "* Clase `Tablero`:\n",
        "* Clase `Agente`:\n",
        "\n",
        "Modifique las clases según lo considere necesario para cumplir los requerimientos de la simulación solicitada.\n",
        "\n"
      ],
      "metadata": {
        "id": "3ig04045uvFk"
      }
    },
    {
      "cell_type": "code",
      "metadata": {
        "id": "B5gSyC_Meubk"
      },
      "source": [
        "from IPython.display import display\n",
        "import ipywidgets as widgets\n",
        "import time\n",
        "\n",
        "class Tablero:\n",
        "  def __init__(self, tamano_celda=(50, 50), n_celdas=(5,5)):\n",
        "    self.out = widgets.HTML()\n",
        "    display(self.out)\n",
        "    self.tamano_celda = tamano_celda\n",
        "    self.n_celdas = n_celdas\n",
        "\n",
        "  def dibujar(self, objetos):\n",
        "    tablero = \"<table border='1' >{}</table>\"\n",
        "    filas = \"\"\n",
        "\n",
        "    for i in range(self.n_celdas[0]):\n",
        "      s = \"\"\n",
        "      for j in range(self.n_celdas[1]):\n",
        "        contenido =\"\"\n",
        "        for o in objetos:\n",
        "          if o.x == j and o.y == i:\n",
        "            contenido = \\\n",
        "            \"<div style='transform: rotate({angulo}deg);font-size:{tamano_emoticon}px;'>{emoticon}</div>\".\\\n",
        "            format(angulo = o.angulo, tamano_emoticon = o.tamano_emoticon, emoticon = o.emoticon)\n",
        "        s += \"<td style='height:{alto}px;width:{ancho}px'>{contenido}</td>\".\\\n",
        "          format(alto = self.tamano_celda[0], ancho = self.tamano_celda[1],\n",
        "                contenido = contenido)\n",
        "      filas += \"<tr>{}</tr>\".format(s)\n",
        "    tablero = tablero.format(filas)\n",
        "    self.out.value = tablero"
      ],
      "execution_count": 6,
      "outputs": []
    },
    {
      "cell_type": "code",
      "metadata": {
        "id": "0AzhMKlVhoot"
      },
      "source": [
        "class Agente:\n",
        "  def __init__(self, x=0, y=0, angulo=0, emoticon=\"🤖\", tamano_emoticon=30):\n",
        "    self.x = x\n",
        "    self.y = y\n",
        "    self.angulo = angulo\n",
        "    self.emoticon = emoticon\n",
        "    self.tamano_emoticon = tamano_emoticon\n",
        "    self.energia = 5\n",
        "\n",
        "  def abajo(self):\n",
        "    if self.y < 4 : self.y += 1\n",
        "\n",
        "  def derecha(self):\n",
        "    pass\n",
        "\n",
        "  def arriba(self):\n",
        "    pass\n",
        "\n",
        "  def izquierda(self):\n",
        "    pass"
      ],
      "execution_count": 14,
      "outputs": []
    },
    {
      "cell_type": "markdown",
      "source": [
        "#### __4. `(1.5 puntos)` Implemente una simulación para el problema del robot aspiradora presentado en clase. La simulación debe cumplir las siguientes especificaciones:__\n",
        "\n",
        "  * El agente aspiradora puede percibir las hojas en cualquiera de las 4 casillas adyacentes (N, S, W, E).\n",
        "  * El agente puede percibir los muros del tablero\n",
        "  * El agente aspiradora dispondrá de 6 acciones:  moverse a cualquiera de las 4 casillas adyacentes (N, S, W, E), aspirar o no realizar ninguna acción.\n",
        "  * El agente obtendrá un punto por cada cuadrado que se limpie.\n",
        "  * La posición inicial de la aspiradora deberá generarse de manera aleatoria en el tablero.\n",
        "  * La aspiradora solo tiene energía para realizar 100 movimientos. Las acciones de aspirar y percibir las hojas no consumen energía.\n",
        "  * El tablero debe tener un tamaño de 5 x 5.\n",
        "  * Se deben ubicar 10 hojas de manera aleatoria en el tablero.\n",
        "\n",
        "__Utilizando los parámetros mencionados:__\n",
        "\n",
        "  * Genere un comportamiento reflejo que maximice el puntaje obtenido por la aspiradora. Describa la estrategia utilizada.\n",
        "  * Realice 50 simulaciones con el comportamiento diseñado y realice un histograma con los puntajes obtenidos.\n",
        "  * ¿Es posible construir un agente racional que soluciones este problema únicamente con comportamientos reflejos?\n",
        "\n",
        "\n"
      ],
      "metadata": {
        "id": "fCryuHI0urfX"
      }
    },
    {
      "cell_type": "code",
      "source": [
        "aspiradora = Agente()\n",
        "tablero = Tablero(n_celdas=(5, 5))\n",
        "\n",
        "basura1 = Agente(2, 2, 0, emoticon=\"🍂\", tamano_emoticon=30)\n",
        "basura2 = Agente(3, 3, 0, emoticon=\"🍂\", tamano_emoticon=30)\n",
        "basura3 = Agente(3, 2, 0, emoticon=\"🍂\", tamano_emoticon=30)\n",
        "\n",
        "objetos = [aspiradora, basura1, basura2, basura3]\n",
        "\n",
        "for i in range(aspiradora.energia):\n",
        "  tablero.dibujar(objetos)\n",
        "  time.sleep(0.5)\n",
        "  aspiradora.abajo()"
      ],
      "metadata": {
        "id": "tS8NAHKGYIyu",
        "colab": {
          "base_uri": "https://localhost:8080/",
          "height": 302,
          "referenced_widgets": [
            "8a1b2fc19b804527b2e50945cadcf2a0",
            "7b5e65ebfe6b4ebc93c237966a6cb94d",
            "772365a926f64c41b6606e523fba3bf1"
          ]
        },
        "outputId": "16c46b28-0599-4823-875f-ba37a0654fba"
      },
      "execution_count": 16,
      "outputs": [
        {
          "output_type": "display_data",
          "data": {
            "text/plain": [
              "HTML(value='')"
            ],
            "application/vnd.jupyter.widget-view+json": {
              "version_major": 2,
              "version_minor": 0,
              "model_id": "8a1b2fc19b804527b2e50945cadcf2a0"
            }
          },
          "metadata": {}
        }
      ]
    },
    {
      "cell_type": "code",
      "source": [
        "# Solución propuesta"
      ],
      "metadata": {
        "id": "2mIFZJ0IxzM7"
      },
      "execution_count": null,
      "outputs": []
    },
    {
      "cell_type": "markdown",
      "source": [
        "\n",
        "\n",
        "#### __5. (1.5 puntos) IImplemente una simulación para el problema del robot aspiradora presentado en clase. La simulación debe cumplir las siguientes especificaciones:__\n",
        "\n",
        "  * El agente aspiradora puede percibir las hojas en cualquiera de las 8 casillas adyacentes (se incluyen las diagonales).\n",
        "  * El agente puede percibir los muros del tablero\n",
        "  * El agente aspiradora dispondrá de 10 acciones:  moverse a cualquiera de las 8 casillas adyacentes aspirar o no realizar ningúna acción.\n",
        "  * El agente obtendrá un punto por cada cuadrado que se límpie.\n",
        "  * La posición inicial de la aspiradora deberá generarse de manera aleatoria en el tablero.\n",
        "  * La aspiradora solo tiene energía para realizar 200 acciones. La acciones de aspirar y percipir las hojas no consumen energía.\n",
        "  * El tablero debe tener un tamaño de 10 x 10.\n",
        "  * Se deben ubicar 50 hojas de manera aleatoria en el tablero.\n",
        "\n",
        "__Utilizando los parámetros mencionados:__\n",
        "\n",
        "  * Genere un comportamiento basado en estado que maximice el puntaje obtenido por la aspiradora. Describa la estrategia utilizada.\n",
        "  * Realice 50 simulaciones con el comportamiento diseñado y realice un histograma con los puntajes obtenidos.\n",
        "  * ¿Es posible construir un agente racional que soluciones este problema mediante un comportamiento basado en estado?\n",
        "\n"
      ],
      "metadata": {
        "id": "sfNsw62P_M1t"
      }
    },
    {
      "cell_type": "code",
      "metadata": {
        "id": "Th7_Ntk0fpK7"
      },
      "source": [
        "# Solución propuesta"
      ],
      "execution_count": null,
      "outputs": []
    }
  ]
}